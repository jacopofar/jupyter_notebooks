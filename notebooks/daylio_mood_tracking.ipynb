{
 "cells": [
  {
   "cell_type": "code",
   "execution_count": null,
   "metadata": {
    "ExecuteTime": {
     "end_time": "2019-01-21T08:00:27.966427Z",
     "start_time": "2019-01-21T08:00:27.680444Z"
    }
   },
   "outputs": [],
   "source": [
    "from datetime import datetime\n",
    "import pandas as pd\n",
    "df = pd.read_csv('daylio_export.csv')\n"
   ]
  },
  {
   "cell_type": "code",
   "execution_count": null,
   "metadata": {
    "ExecuteTime": {
     "end_time": "2019-01-21T08:00:28.121395Z",
     "start_time": "2019-01-21T08:00:27.970888Z"
    }
   },
   "outputs": [],
   "source": [
    "# Daylio uses this awful format: a column with the year,\n",
    "# a column with the month name in English and the day number (e.g. June 10), and another with the time\n",
    "# So this ugly procedure is necessary\n",
    "# moreover, this is also affected by locale\n",
    "import locale\n",
    "locale.setlocale(locale.LC_ALL, 'de_DE.UTF-8')\n",
    "def to_date(r):\n",
    "    \n",
    "    datetime_object = datetime.strptime(r['date'].split()[0] + ' ' + r['date'].split()[1].zfill(2) + ' ' + str(r['year']) + ' ' + r['time'],\n",
    "                                            '%d. %B %Y %H:%M')\n",
    "\n",
    "    return datetime_object\n",
    "df['new_date'] = df.apply(to_date, axis=1)\n",
    "df = df.set_index('new_date')\n",
    "df = df.drop(['year', 'date','weekday', 'time'], axis=1)\n",
    "\n",
    "# use a number for the mood value, not the string\n",
    "df['mood'] = df.apply(lambda x: ['Lausig','fugly','Ok','Gut','Super'].index(x['mood']),axis=1)\n",
    "#df['mood'] = df.apply(lambda x: ['awful','fugly','meh','good','rad'].index(x['mood']),axis=1)"
   ]
  },
  {
   "cell_type": "code",
   "execution_count": null,
   "metadata": {
    "ExecuteTime": {
     "end_time": "2019-01-21T08:06:50.635064Z",
     "start_time": "2019-01-21T08:06:50.340787Z"
    }
   },
   "outputs": [],
   "source": [
    "\n",
    "%matplotlib inline\n",
    "df['mood_smooth'] = df['mood'].rolling(window=10).mean()\n",
    "df['mood_smooth'].plot(figsize=(10, 5))"
   ]
  },
  {
   "cell_type": "code",
   "execution_count": null,
   "metadata": {
    "ExecuteTime": {
     "end_time": "2019-01-21T08:03:42.912098Z",
     "start_time": "2019-01-21T08:03:42.833306Z"
    }
   },
   "outputs": [],
   "source": [
    "df['weekday'] = df.index.dayofweek\n",
    "raw_dict = df.to_dict(orient='index')\n",
    "# a dictionary with this key-value structure: \n",
    "# Timestamp('2016-07-07 22:03:00'): {'activities': 'work | friends',\n",
    "#  'mood': 4,\n",
    "#  'note': \"something something\"}, ...\n",
    "from collections import Counter\n",
    "import string\n",
    "# dictionary mapping each punctuation codepoint to the space character one\n",
    "punctuations_dict = dict.fromkeys(map(ord, string.punctuation), ord(' '))\n",
    "words_general = Counter()\n",
    "words_moods = [Counter() for i in range(5)]\n",
    "\n",
    "for k,v in raw_dict.items():\n",
    "    if type(v['note']) != str:\n",
    "        # a record may not have a note\n",
    "        print(f'ignored element for {k} {v}, had type {type(v[\"note\"])}')\n",
    "        continue\n",
    "    # remove punctuations based on Unicode definition\n",
    "    \n",
    "    tokens =  v['note'].lower().translate(punctuations_dict).split()\n",
    "    words_general.update(tokens)\n",
    "    words_moods[v['mood']].update(tokens)"
   ]
  },
  {
   "cell_type": "code",
   "execution_count": null,
   "metadata": {
    "ExecuteTime": {
     "end_time": "2019-01-21T08:03:48.950033Z",
     "start_time": "2019-01-21T08:03:48.941096Z"
    }
   },
   "outputs": [],
   "source": [
    "print(len(words_general))\n",
    "words_general.most_common(15)"
   ]
  },
  {
   "cell_type": "markdown",
   "metadata": {},
   "source": [
    "Now we have the word frequencies for each mood and in general.\n",
    "\n",
    "For each word we can calculate the ratio between the occurrences in some mood and the total occurrences, to get a measure of the correlation between the word and the mood.\n",
    "\n",
    "Words appearing a few times or just once, however, would have an excessively high polarity (that is, the correlation with a specific category); we need to not give too much weight to them. This is called smoothing and is a common step in Bayes models. There are various methods, based in general on the idea of adding an \"hidden\" number of occurrences for each token/category combination, an approach stemming from the assumption that by sampling we ignored some values that would have appeared with a bigger (or infinite) sample size.\n",
    "\n",
    "I'll use the simplest smoothing, called Laplacian smoothing: just add a value for each token/category combination. This way, the polarity of tokens appearing few times will be spread between all the categories, while more common tokens will have a more defined polarity."
   ]
  },
  {
   "cell_type": "code",
   "execution_count": null,
   "metadata": {
    "ExecuteTime": {
     "end_time": "2019-01-21T08:03:58.967634Z",
     "start_time": "2019-01-21T08:03:58.948943Z"
    }
   },
   "outputs": [],
   "source": [
    "# for each token, add a fake sample to each mood pretending it appeared at least once for each\n",
    "# if a mood actually had that token, it will just appear one more time\n",
    "for w in words_general:\n",
    "    for counter in words_moods:\n",
    "        counter.update([w])\n",
    "        "
   ]
  },
  {
   "cell_type": "markdown",
   "metadata": {},
   "source": [
    "Now the polarity of the tokens for each category is calculated as the number of occurrences for that category divided by the total number of occurrences."
   ]
  },
  {
   "cell_type": "code",
   "execution_count": null,
   "metadata": {
    "ExecuteTime": {
     "end_time": "2019-01-21T08:04:00.164020Z",
     "start_time": "2019-01-21T08:04:00.149265Z"
    }
   },
   "outputs": [],
   "source": [
    "polarities = {}\n",
    "for w in words_general:\n",
    "    # words_general was not smoothed, so it still contains the actual count\n",
    "    total = words_general[w] + len(words_moods)\n",
    "    polarities[w] = [counter[w]/total for counter in words_moods]\n",
    "import heapq\n",
    "for m in range(5):\n",
    "    print(f'tokens with highest polarity with class {m}:')\n",
    "    higher = heapq.nlargest(10,polarities.items(), key=lambda x:x[1][m])\n",
    "    print(list(map(lambda k: k[0], higher)))"
   ]
  }
 ],
 "metadata": {
  "kernelspec": {
   "display_name": "Python 3",
   "language": "python",
   "name": "python3"
  },
  "language_info": {
   "codemirror_mode": {
    "name": "ipython",
    "version": 3
   },
   "file_extension": ".py",
   "mimetype": "text/x-python",
   "name": "python",
   "nbconvert_exporter": "python",
   "pygments_lexer": "ipython3",
   "version": "3.7.5"
  },
  "toc": {
   "base_numbering": 1,
   "nav_menu": {},
   "number_sections": true,
   "sideBar": true,
   "skip_h1_title": false,
   "title_cell": "Table of Contents",
   "title_sidebar": "Contents",
   "toc_cell": false,
   "toc_position": {},
   "toc_section_display": true,
   "toc_window_display": false
  }
 },
 "nbformat": 4,
 "nbformat_minor": 4
}
